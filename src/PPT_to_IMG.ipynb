{
 "cells": [
  {
   "cell_type": "code",
<<<<<<< HEAD
   "execution_count": 53,
=======
   "execution_count": 1,
>>>>>>> 28639e3 (v)
   "metadata": {},
   "outputs": [],
   "source": [
    "import os\n",
    "import shutil\n",
    "import natsort\n",
    "import comtypes.client\n",
    "from PIL import Image as Img"
   ]
  },
  {
   "cell_type": "code",
<<<<<<< HEAD
   "execution_count": 54,
=======
   "execution_count": 2,
>>>>>>> 28639e3 (v)
   "metadata": {},
   "outputs": [],
   "source": [
    "def listdir(path):\n",
    "    return natsort.natsorted(os.listdir(path))\n",
    "\n",
    "def makedir(path):\n",
    "    if not os.path.exists(path): os.makedirs(path)"
   ]
  },
  {
   "cell_type": "code",
<<<<<<< HEAD
   "execution_count": 55,
=======
   "execution_count": 3,
>>>>>>> 28639e3 (v)
   "metadata": {},
   "outputs": [
    {
     "name": "stdout",
     "output_type": "stream",
     "text": [
<<<<<<< HEAD
      " 0: 1_3.Vector Space Models.pptx\n",
      " 1: 2_4.Word Embeddings.pptx\n",
      " 2: Lec1 - Word Embeddings.pptx\n",
      " 3: Lec2- Word Embeddings pt 2.pptx\n",
      " 4: lecture01-intro.ppt\n"
=======
      " 0: 2_3.Autocomplete.pptx\n",
      " 1: 4_1.Neural Machine Translation.pptx\n",
      " 2: 4_2.Text Summarization.pptx\n",
      " 3: 4_3.Question Answering.pptx\n",
      " 4: 4_4.Chatbot.pptx\n"
>>>>>>> 28639e3 (v)
     ]
    }
   ],
   "source": [
    "list_ppt = listdir('../data')\n",
    "for i, ppt in enumerate(list_ppt): print(f'{i:2.0f}: {ppt}')"
   ]
  },
  {
   "cell_type": "code",
<<<<<<< HEAD
   "execution_count": 60,
   "metadata": {},
   "outputs": [
    {
     "data": {
      "text/plain": [
       "'1_3.Vector Space Models'"
      ]
     },
     "execution_count": 60,
     "metadata": {},
     "output_type": "execute_result"
    }
   ],
   "source": [
    "ppt[:-5]"
   ]
  },
  {
   "cell_type": "code",
   "execution_count": 64,
=======
   "execution_count": 9,
>>>>>>> 28639e3 (v)
   "metadata": {},
   "outputs": [
    {
     "name": "stdout",
     "output_type": "stream",
     "text": [
<<<<<<< HEAD
      " 0: 1_3.Vector Space Models.pptx\n",
      "../res/1_3.Vector Space Models\n",
      " 1: 2_4.Word Embeddings.pptx\n",
      "../res/2_4.Word Embeddings\n",
      " 2: Lec1 - Word Embeddings.pptx\n",
      "../res/Lec1 - Word Embeddings\n",
      " 3: Lec2- Word Embeddings pt 2.pptx\n",
      "../res/Lec2- Word Embeddings pt 2\n",
      " 4: lecture01-intro.ppt\n",
      "../res/lecture01-intro\n"
=======
      " 0: 2_3.Autocomplete.pptx\n",
      "../res/2_3.Autocomplete\n"
     ]
    },
    {
     "ename": "COMError",
     "evalue": "(-2147467259, '지정되지 않은 오류입니다.', ('Presentation (unknown member) : c:\\\\Users\\\\gu_ho\\\\Downloads\\\\PPT2IMG-main\\\\PPT2IMG-main\\\\res\\\\2_3.Autocomplete.pptx을(를) 찾을 수 없습니다. 파일의 이름이 변경되었거나 이동 또는 삭제되지는 않았습니까?', 'Microsoft PowerPoint', '', 0, None))",
     "output_type": "error",
     "traceback": [
      "\u001b[1;31m---------------------------------------------------------------------------\u001b[0m",
      "\u001b[1;31mCOMError\u001b[0m                                  Traceback (most recent call last)",
      "\u001b[1;32mc:\\Users\\gu_ho\\Downloads\\PPT2IMG-main\\PPT2IMG-main\\src\\PPT_to_IMG.ipynb 셀 4\u001b[0m line \u001b[0;36m1\n\u001b[0;32m     <a href='vscode-notebook-cell:/c%3A/Users/gu_ho/Downloads/PPT2IMG-main/PPT2IMG-main/src/PPT_to_IMG.ipynb#W4sZmlsZQ%3D%3D?line=12'>13</a>\u001b[0m \u001b[39mprint\u001b[39m(\u001b[39mf\u001b[39m\u001b[39m'\u001b[39m\u001b[39m../res/\u001b[39m\u001b[39m{\u001b[39;00mppt_\u001b[39m}\u001b[39;00m\u001b[39m'\u001b[39m)\n\u001b[0;32m     <a href='vscode-notebook-cell:/c%3A/Users/gu_ho/Downloads/PPT2IMG-main/PPT2IMG-main/src/PPT_to_IMG.ipynb#W4sZmlsZQ%3D%3D?line=13'>14</a>\u001b[0m \u001b[39mif\u001b[39;00m os\u001b[39m.\u001b[39mpath\u001b[39m.\u001b[39mexists(\u001b[39mf\u001b[39m\u001b[39m'\u001b[39m\u001b[39m../res/\u001b[39m\u001b[39m{\u001b[39;00mppt_\u001b[39m}\u001b[39;00m\u001b[39m'\u001b[39m): shutil\u001b[39m.\u001b[39mrmtree(\u001b[39mf\u001b[39m\u001b[39m'\u001b[39m\u001b[39m../res/\u001b[39m\u001b[39m{\u001b[39;00mppt_\u001b[39m}\u001b[39;00m\u001b[39m'\u001b[39m)\n\u001b[1;32m---> <a href='vscode-notebook-cell:/c%3A/Users/gu_ho/Downloads/PPT2IMG-main/PPT2IMG-main/src/PPT_to_IMG.ipynb#W4sZmlsZQ%3D%3D?line=14'>15</a>\u001b[0m presentation\u001b[39m.\u001b[39mSaveAs(os\u001b[39m.\u001b[39mpath\u001b[39m.\u001b[39mabspath(\u001b[39mf\u001b[39m\u001b[39m'\u001b[39m\u001b[39m../res/\u001b[39m\u001b[39m{\u001b[39;00mppt\u001b[39m}\u001b[39;00m\u001b[39m'\u001b[39m), format_output)\n\u001b[0;32m     <a href='vscode-notebook-cell:/c%3A/Users/gu_ho/Downloads/PPT2IMG-main/PPT2IMG-main/src/PPT_to_IMG.ipynb#W4sZmlsZQ%3D%3D?line=15'>16</a>\u001b[0m presentation\u001b[39m.\u001b[39mClose()\n\u001b[0;32m     <a href='vscode-notebook-cell:/c%3A/Users/gu_ho/Downloads/PPT2IMG-main/PPT2IMG-main/src/PPT_to_IMG.ipynb#W4sZmlsZQ%3D%3D?line=17'>18</a>\u001b[0m shutil\u001b[39m.\u001b[39mmove(\u001b[39mf\u001b[39m\u001b[39m'\u001b[39m\u001b[39m../data/\u001b[39m\u001b[39m{\u001b[39;00mppt\u001b[39m}\u001b[39;00m\u001b[39m'\u001b[39m, \u001b[39mf\u001b[39m\u001b[39m'\u001b[39m\u001b[39m../done/\u001b[39m\u001b[39m{\u001b[39;00mppt\u001b[39m}\u001b[39;00m\u001b[39m'\u001b[39m)\n",
      "\u001b[1;31mCOMError\u001b[0m: (-2147467259, '지정되지 않은 오류입니다.', ('Presentation (unknown member) : c:\\\\Users\\\\gu_ho\\\\Downloads\\\\PPT2IMG-main\\\\PPT2IMG-main\\\\res\\\\2_3.Autocomplete.pptx을(를) 찾을 수 없습니다. 파일의 이름이 변경되었거나 이동 또는 삭제되지는 않았습니까?', 'Microsoft PowerPoint', '', 0, None))"
>>>>>>> 28639e3 (v)
     ]
    }
   ],
   "source": [
    "format = 'png'\n",
    "list_ppt = listdir('../data')\n",
    "for i, ppt in enumerate(list_ppt):\n",
    "    print(f'{i:2.0f}: {ppt}')\n",
    "    ppt_app = comtypes.client.CreateObject('PowerPoint.Application')\n",
    "    ppt_app.Visible = 1\n",
    "    presentation = ppt_app.Presentations.Open(os.path.abspath(f'../data/{ppt}'))\n",
    "    \n",
    "    format_dict = {\"PNG\":17, \"JPG\":18}\n",
    "    format_output = format_dict.get(format.upper(), 17)\n",
    "    \n",
    "    ppt_ = ppt[:-4] if ppt[-3:]=='ppt' else ppt[:-5]\n",
    "    print(f'../res/{ppt_}')\n",
    "    if os.path.exists(f'../res/{ppt_}'): shutil.rmtree(f'../res/{ppt_}')\n",
    "    presentation.SaveAs(os.path.abspath(f'../res/{ppt}'), format_output)\n",
    "    presentation.Close()\n",
    "    \n",
    "    shutil.move(f'../data/{ppt}', f'../done/{ppt}')"
   ]
  }
 ],
 "metadata": {
  "kernelspec": {
   "display_name": "guhong",
   "language": "python",
   "name": "python3"
  },
  "language_info": {
   "codemirror_mode": {
    "name": "ipython",
    "version": 3
   },
   "file_extension": ".py",
   "mimetype": "text/x-python",
   "name": "python",
   "nbconvert_exporter": "python",
   "pygments_lexer": "ipython3",
   "version": "3.7.11"
  },
  "orig_nbformat": 4
 },
 "nbformat": 4,
 "nbformat_minor": 2
}
