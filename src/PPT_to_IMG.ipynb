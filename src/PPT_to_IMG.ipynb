{
 "cells": [
  {
   "cell_type": "code",
   "execution_count": 53,
   "metadata": {},
   "outputs": [],
   "source": [
    "import os\n",
    "import shutil\n",
    "import natsort\n",
    "import comtypes.client\n",
    "from PIL import Image as Img"
   ]
  },
  {
   "cell_type": "code",
   "execution_count": 54,
   "metadata": {},
   "outputs": [],
   "source": [
    "def listdir(path):\n",
    "    return natsort.natsorted(os.listdir(path))\n",
    "\n",
    "def makedir(path):\n",
    "    if not os.path.exists(path): os.makedirs(path)"
   ]
  },
  {
   "cell_type": "code",
   "execution_count": 55,
   "metadata": {},
   "outputs": [
    {
     "name": "stdout",
     "output_type": "stream",
     "text": [
      " 0: 1_3.Vector Space Models.pptx\n",
      " 1: 2_4.Word Embeddings.pptx\n",
      " 2: Lec1 - Word Embeddings.pptx\n",
      " 3: Lec2- Word Embeddings pt 2.pptx\n",
      " 4: lecture01-intro.ppt\n"
     ]
    }
   ],
   "source": [
    "list_ppt = listdir('../data')\n",
    "for i, ppt in enumerate(list_ppt): print(f'{i:2.0f}: {ppt}')"
   ]
  },
  {
   "cell_type": "code",
   "execution_count": 60,
   "metadata": {},
   "outputs": [
    {
     "data": {
      "text/plain": [
       "'1_3.Vector Space Models'"
      ]
     },
     "execution_count": 60,
     "metadata": {},
     "output_type": "execute_result"
    }
   ],
   "source": [
    "ppt[:-5]"
   ]
  },
  {
   "cell_type": "code",
   "execution_count": 64,
   "metadata": {},
   "outputs": [
    {
     "name": "stdout",
     "output_type": "stream",
     "text": [
      " 0: 1_3.Vector Space Models.pptx\n",
      "../res/1_3.Vector Space Models\n",
      " 1: 2_4.Word Embeddings.pptx\n",
      "../res/2_4.Word Embeddings\n",
      " 2: Lec1 - Word Embeddings.pptx\n",
      "../res/Lec1 - Word Embeddings\n",
      " 3: Lec2- Word Embeddings pt 2.pptx\n",
      "../res/Lec2- Word Embeddings pt 2\n",
      " 4: lecture01-intro.ppt\n",
      "../res/lecture01-intro\n"
     ]
    }
   ],
   "source": [
    "format = 'png'\n",
    "list_ppt = listdir('../data')\n",
    "for i, ppt in enumerate(list_ppt):\n",
    "    print(f'{i:2.0f}: {ppt}')\n",
    "    ppt_app = comtypes.client.CreateObject('PowerPoint.Application')\n",
    "    ppt_app.Visible = 1\n",
    "    presentation = ppt_app.Presentations.Open(os.path.abspath(f'../data/{ppt}'))\n",
    "    \n",
    "    format_dict = {\"PNG\":17, \"JPG\":18}\n",
    "    format_output = format_dict.get(format.upper(), 17)\n",
    "    \n",
    "    ppt_ = ppt[:-4] if ppt[-3:]=='ppt' else ppt[:-5]\n",
    "    print(f'../res/{ppt_}')\n",
    "    if os.path.exists(f'../res/{ppt_}'): shutil.rmtree(f'../res/{ppt_}')\n",
    "    presentation.SaveAs(os.path.abspath(f'../res/{ppt}'), format_output)\n",
    "    presentation.Close()\n",
    "    \n",
    "    shutil.move(f'../data/{ppt}', f'../done/{ppt}')"
   ]
  }
 ],
 "metadata": {
  "kernelspec": {
   "display_name": "guhong",
   "language": "python",
   "name": "python3"
  },
  "language_info": {
   "codemirror_mode": {
    "name": "ipython",
    "version": 3
   },
   "file_extension": ".py",
   "mimetype": "text/x-python",
   "name": "python",
   "nbconvert_exporter": "python",
   "pygments_lexer": "ipython3",
   "version": "3.7.11"
  },
  "orig_nbformat": 4
 },
 "nbformat": 4,
 "nbformat_minor": 2
}
